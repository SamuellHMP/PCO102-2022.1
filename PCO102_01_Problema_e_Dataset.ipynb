{
  "nbformat": 4,
  "nbformat_minor": 0,
  "metadata": {
    "colab": {
      "name": "PCO102-01-Problema-e-Dataset.ipynb",
      "provenance": [],
      "authorship_tag": "ABX9TyPWDLBkseE3Hs/K0osA/7OC",
      "include_colab_link": true
    },
    "kernelspec": {
      "name": "python3",
      "display_name": "Python 3"
    },
    "language_info": {
      "name": "python"
    }
  },
  "cells": [
    {
      "cell_type": "markdown",
      "metadata": {
        "id": "view-in-github",
        "colab_type": "text"
      },
      "source": [
        "<a href=\"https://colab.research.google.com/github/SamuellHMP/PCO102-2022.1/blob/main/PCO102_01_Problema_e_Dataset.ipynb\" target=\"_parent\"><img src=\"https://colab.research.google.com/assets/colab-badge.svg\" alt=\"Open In Colab\"/></a>"
      ]
    },
    {
      "cell_type": "markdown",
      "source": [
        "# PCO102-01-Problema-e-Dataset"
      ],
      "metadata": {
        "id": "Tj8Zj-wGWqUl"
      }
    },
    {
      "cell_type": "code",
      "execution_count": null,
      "metadata": {
        "id": "KVTw-2fGWlfn"
      },
      "outputs": [],
      "source": [
        ""
      ]
    }
  ]
}