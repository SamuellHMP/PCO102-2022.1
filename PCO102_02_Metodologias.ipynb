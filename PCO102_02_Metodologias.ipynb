{
  "nbformat": 4,
  "nbformat_minor": 0,
  "metadata": {
    "colab": {
      "name": "PCO102-02-Metodologias.ipynb",
      "provenance": [],
      "authorship_tag": "ABX9TyMw+5qqFLd2NeuuejuQ7X14",
      "include_colab_link": true
    },
    "kernelspec": {
      "name": "python3",
      "display_name": "Python 3"
    },
    "language_info": {
      "name": "python"
    }
  },
  "cells": [
    {
      "cell_type": "markdown",
      "metadata": {
        "id": "view-in-github",
        "colab_type": "text"
      },
      "source": [
        "<a href=\"https://colab.research.google.com/github/SamuellHMP/PCO102-2022.1/blob/main/PCO102_02_Metodologias.ipynb\" target=\"_parent\"><img src=\"https://colab.research.google.com/assets/colab-badge.svg\" alt=\"Open In Colab\"/></a>"
      ]
    },
    {
      "cell_type": "markdown",
      "source": [
        "# Metodologias\n",
        "\n",
        "Foram escolhidas duas metodologias para abordar o problema: redes neurais artificiais e correlação cruzada:\n",
        "\n",
        "1. Redes Neurais Artificiais (RNAs) são um método de Inteligência Artificial para simular o efeito de múltiplas variáveis em um parâmetro principal por uma função de aptidão. Elas fornecem soluções desejáveis para problemas complexos, pois podem interpretar as relações compostas entre os vários parâmetros envolvidos em um problema. Uma das principais vantagens das RNAs é que elas podem simular tanto relações lineares quanto relações não lineares entre parâmetros, usando as informações fornecidas para treinar a rede. São também conhecidas como processamento paralelo distribuído e basicamente são a representação algorítmica de métodos que o cérebro humano usa para aprender. RNAs são redes de sistemas de computação compostas de uma série de elementos de processamento simples e altamente interconectados, que processam informações buscando respostas dinâmicas para entradas externas. Caracterizam-se por ser modelos simples e tolerantes a falhas que não requerem informações para identificar os parâmetros relacionados e não requerem a descrição matemática dos fenômenos envolvidos no processo.\n",
        "\n",
        "2. Em processamento de sinais, relação cruzada ou correlação cruzada é uma medida de similaridade entre dois sinais em função de um atraso aplicado a um deles. Também é conhecida como produto interno deslizante. A relação cruzada é frequentemente utilizada quando se deseja procurar por um sinal de curta duração que esteja inserido em um sinal mais longo. A relação cruzada é muito semelhante em natureza à convolução de duas funções. Porém, ao contrário da convolução, na relação cruzada não há espelhamento de um dos sinais. Outra importante propriedade que distingue estas duas operações é que a convolução é comutativa, o mesmo não ocorre na relação cruzada. Quando ambas as funções de entrada em uma relação cruzada são a mesma função, a relação cruzada é conhecida por autocorrelação."
      ],
      "metadata": {
        "id": "Tj8Zj-wGWqUl"
      }
    },
    {
      "cell_type": "markdown",
      "source": [
        "# Rede Neural Artificial"
      ],
      "metadata": {
        "id": "5yLbvP_Z0Dya"
      }
    },
    {
      "cell_type": "code",
      "source": [
        "import numpy as np\n",
        "import pandas as pd\n",
        "import gdown"
      ],
      "metadata": {
        "id": "bxntzeqkscQD"
      },
      "execution_count": null,
      "outputs": []
    },
    {
      "cell_type": "code",
      "source": [
        "gdown.download(url='https://drive.google.com/uc?id=1lOWV8oBweRPSdUhZNRzEPZsD0R5VxGaX', output='Carla_Simulator.csv')"
      ],
      "metadata": {
        "colab": {
          "base_uri": "https://localhost:8080/",
          "height": 105
        },
        "id": "F61bkwJVtPuc",
        "outputId": "6f0c65a3-dd1a-4722-fef1-686f52afe99d"
      },
      "execution_count": null,
      "outputs": [
        {
          "output_type": "stream",
          "name": "stderr",
          "text": [
            "Downloading...\n",
            "From: https://drive.google.com/uc?id=1lOWV8oBweRPSdUhZNRzEPZsD0R5VxGaX\n",
            "To: /content/Carla_Simulator.csv\n",
            "100%|██████████| 12.6M/12.6M [00:00<00:00, 185MB/s]\n"
          ]
        },
        {
          "output_type": "execute_result",
          "data": {
            "text/plain": [
              "'Carla_Simulator.csv'"
            ],
            "application/vnd.google.colaboratory.intrinsic+json": {
              "type": "string"
            }
          },
          "metadata": {},
          "execution_count": 7
        }
      ]
    },
    {
      "cell_type": "markdown",
      "source": [
        "Análise inicial dos dados"
      ],
      "metadata": {
        "id": "m99hizNjsrir"
      }
    },
    {
      "cell_type": "code",
      "source": [
        "data = pd.read_csv(\"Carla_Simulator.csv\",index_col=0)\n",
        "data.info()"
      ],
      "metadata": {
        "colab": {
          "base_uri": "https://localhost:8080/"
        },
        "id": "AGrh0jGEstUr",
        "outputId": "5693bf89-d9f2-44ff-ff02-0f274f129460"
      },
      "execution_count": null,
      "outputs": [
        {
          "output_type": "stream",
          "name": "stdout",
          "text": [
            "<class 'pandas.core.frame.DataFrame'>\n",
            "Int64Index: 99358 entries, 0 to 99357\n",
            "Data columns (total 7 columns):\n",
            " #   Column  Non-Null Count  Dtype  \n",
            "---  ------  --------------  -----  \n",
            " 0   accelX  99358 non-null  float64\n",
            " 1   accelY  99358 non-null  float64\n",
            " 2   accelZ  99358 non-null  float64\n",
            " 3   class   99358 non-null  object \n",
            " 4   gyroX   99358 non-null  float64\n",
            " 5   gyroY   99358 non-null  float64\n",
            " 6   gyroZ   99358 non-null  float64\n",
            "dtypes: float64(6), object(1)\n",
            "memory usage: 6.1+ MB\n"
          ]
        }
      ]
    },
    {
      "cell_type": "markdown",
      "source": [
        "Checanco rótulos"
      ],
      "metadata": {
        "id": "t47ptRritoSc"
      }
    },
    {
      "cell_type": "code",
      "source": [
        "data['class'].unique()"
      ],
      "metadata": {
        "colab": {
          "base_uri": "https://localhost:8080/"
        },
        "id": "HROPgUH5tmq8",
        "outputId": "0deda422-d013-450e-8392-8536c990f410"
      },
      "execution_count": null,
      "outputs": [
        {
          "output_type": "execute_result",
          "data": {
            "text/plain": [
              "array(['apo', 'onder', 'hurcan', 'gonca', 'mehdi', 'berk', 'selin'],\n",
              "      dtype=object)"
            ]
          },
          "metadata": {},
          "execution_count": 10
        }
      ]
    },
    {
      "cell_type": "markdown",
      "source": [
        "Codificação do rótulo --> String para Integer"
      ],
      "metadata": {
        "id": "BuoOYDcVtxVs"
      }
    },
    {
      "cell_type": "code",
      "source": [
        "x = data.drop([\"class\"],axis=1)\n",
        "y = data[\"class\"].values\n",
        "from sklearn.preprocessing import LabelEncoder\n",
        "y = LabelEncoder().fit_transform(y)"
      ],
      "metadata": {
        "id": "yjejsVwPtyPT"
      },
      "execution_count": null,
      "outputs": []
    },
    {
      "cell_type": "markdown",
      "source": [
        "Separação dos conjuntos de treinamento e teste"
      ],
      "metadata": {
        "id": "9adaGyhht4XZ"
      }
    },
    {
      "cell_type": "code",
      "source": [
        "from sklearn.model_selection import train_test_split\n",
        "X_train, X_test, y_train, y_test = train_test_split(x, y, test_size=0.25, shuffle=True)\n",
        "print(\"Train Set Shape: \", X_train.shape)\n",
        "print(\"Test Set Shape: \", X_test.shape)"
      ],
      "metadata": {
        "colab": {
          "base_uri": "https://localhost:8080/"
        },
        "id": "4dR2m_kft5Dx",
        "outputId": "6a9a18be-f6a0-4293-9935-f95fc67faf83"
      },
      "execution_count": null,
      "outputs": [
        {
          "output_type": "stream",
          "name": "stdout",
          "text": [
            "Train Set Shape:  (74518, 6)\n",
            "Test Set Shape:  (24840, 6)\n"
          ]
        }
      ]
    },
    {
      "cell_type": "markdown",
      "source": [
        "Codificação categórica para usar categorical_loss no API keras"
      ],
      "metadata": {
        "id": "Kr1gVR4et_nx"
      }
    },
    {
      "cell_type": "code",
      "source": [
        "from tensorflow.python.keras.utils.np_utils import to_categorical\n",
        "y_train = to_categorical(y_train, num_classes=7)\n",
        "y_test = to_categorical(y_test, num_classes=7)"
      ],
      "metadata": {
        "id": "ozZ9Ps4suAWS"
      },
      "execution_count": null,
      "outputs": []
    },
    {
      "cell_type": "code",
      "source": [
        "from tensorflow.python.keras.models import Sequential\n",
        "from tensorflow.python.keras.layers import Dense\n",
        "from tensorflow.python.keras.callbacks import EarlyStopping\n",
        "from tensorflow.python.keras.layers import Dropout\n",
        "\n",
        "early_stop = EarlyStopping(monitor='loss', patience=2)\n",
        "model = Sequential()\n",
        "\n",
        "model.add(Dense(32, activation='relu', input_shape=(6,),kernel_initializer='random_uniform'))\n",
        "model.add(Dense(64, activation='relu',kernel_initializer='random_uniform'))\n",
        "model.add(Dense(128, activation='relu',kernel_initializer='random_uniform'))\n",
        "model.add(Dense(256, activation='relu',kernel_initializer='random_uniform'))\n",
        "model.add(Dropout(0.25))\n",
        "model.add(Dense(512, activation='relu',kernel_initializer='random_uniform'))\n",
        "model.add(Dropout(0.25))\n",
        "model.add(Dense(256, activation='relu',kernel_initializer='random_uniform'))\n",
        "model.add(Dropout(0.25))\n",
        "model.add(Dense(128, activation='relu',kernel_initializer='random_uniform'))\n",
        "model.add(Dense(64, activation='relu',kernel_initializer='random_uniform'))\n",
        "model.add(Dense(128, activation='relu',kernel_initializer='random_uniform'))\n",
        "model.add(Dense(7, activation='softmax',kernel_initializer='random_uniform'))\n",
        "\n",
        "model.compile(optimizer='adam', loss='categorical_crossentropy', metrics=['accuracy'])\n",
        "model.summary()"
      ],
      "metadata": {
        "colab": {
          "base_uri": "https://localhost:8080/"
        },
        "id": "r6ShTQpiuJJc",
        "outputId": "79775d9f-4663-430b-e022-9ce3056b6a7c"
      },
      "execution_count": null,
      "outputs": [
        {
          "output_type": "stream",
          "name": "stdout",
          "text": [
            "Model: \"sequential\"\n",
            "_________________________________________________________________\n",
            "Layer (type)                 Output Shape              Param #   \n",
            "=================================================================\n",
            "dense (Dense)                (None, 32)                224       \n",
            "_________________________________________________________________\n",
            "dense_1 (Dense)              (None, 64)                2112      \n",
            "_________________________________________________________________\n",
            "dense_2 (Dense)              (None, 128)               8320      \n",
            "_________________________________________________________________\n",
            "dense_3 (Dense)              (None, 256)               33024     \n",
            "_________________________________________________________________\n",
            "dropout (Dropout)            (None, 256)               0         \n",
            "_________________________________________________________________\n",
            "dense_4 (Dense)              (None, 512)               131584    \n",
            "_________________________________________________________________\n",
            "dropout_1 (Dropout)          (None, 512)               0         \n",
            "_________________________________________________________________\n",
            "dense_5 (Dense)              (None, 256)               131328    \n",
            "_________________________________________________________________\n",
            "dropout_2 (Dropout)          (None, 256)               0         \n",
            "_________________________________________________________________\n",
            "dense_6 (Dense)              (None, 128)               32896     \n",
            "_________________________________________________________________\n",
            "dense_7 (Dense)              (None, 64)                8256      \n",
            "_________________________________________________________________\n",
            "dense_8 (Dense)              (None, 128)               8320      \n",
            "_________________________________________________________________\n",
            "dense_9 (Dense)              (None, 7)                 903       \n",
            "=================================================================\n",
            "Total params: 356,967\n",
            "Trainable params: 356,967\n",
            "Non-trainable params: 0\n",
            "_________________________________________________________________\n"
          ]
        }
      ]
    },
    {
      "cell_type": "code",
      "source": [
        "hist = model.fit(X_train , y_train , epochs=10, validation_split=0.2)"
      ],
      "metadata": {
        "colab": {
          "base_uri": "https://localhost:8080/"
        },
        "id": "lKBG_5wXuN3U",
        "outputId": "42bfd790-1471-4f6d-8e31-f0f9fe459e5a"
      },
      "execution_count": null,
      "outputs": [
        {
          "output_type": "stream",
          "name": "stdout",
          "text": [
            "Epoch 1/10\n",
            "1863/1863 [==============================] - 19s 9ms/step - loss: 1.8771 - accuracy: 0.2054 - val_loss: 1.8590 - val_accuracy: 0.2220\n",
            "Epoch 2/10\n",
            "1863/1863 [==============================] - 16s 9ms/step - loss: 1.8612 - accuracy: 0.2168 - val_loss: 1.8500 - val_accuracy: 0.2248\n",
            "Epoch 3/10\n",
            "1863/1863 [==============================] - 17s 9ms/step - loss: 1.8485 - accuracy: 0.2290 - val_loss: 1.8332 - val_accuracy: 0.2434\n",
            "Epoch 4/10\n",
            "1863/1863 [==============================] - 17s 9ms/step - loss: 1.8274 - accuracy: 0.2466 - val_loss: 1.8192 - val_accuracy: 0.2498\n",
            "Epoch 5/10\n",
            "1863/1863 [==============================] - 16s 9ms/step - loss: 1.8191 - accuracy: 0.2512 - val_loss: 1.8101 - val_accuracy: 0.2615\n",
            "Epoch 6/10\n",
            "1863/1863 [==============================] - 17s 9ms/step - loss: 1.8153 - accuracy: 0.2560 - val_loss: 1.8097 - val_accuracy: 0.2611\n",
            "Epoch 7/10\n",
            "1863/1863 [==============================] - 18s 10ms/step - loss: 1.8117 - accuracy: 0.2553 - val_loss: 1.8054 - val_accuracy: 0.2649\n",
            "Epoch 8/10\n",
            "1863/1863 [==============================] - 16s 9ms/step - loss: 1.8088 - accuracy: 0.2593 - val_loss: 1.8047 - val_accuracy: 0.2634\n",
            "Epoch 9/10\n",
            "1863/1863 [==============================] - 17s 9ms/step - loss: 1.8067 - accuracy: 0.2620 - val_loss: 1.8103 - val_accuracy: 0.2615\n",
            "Epoch 10/10\n",
            "1863/1863 [==============================] - 16s 9ms/step - loss: 1.8022 - accuracy: 0.2625 - val_loss: 1.7964 - val_accuracy: 0.2689\n"
          ]
        }
      ]
    },
    {
      "cell_type": "markdown",
      "source": [
        "Em https://www.kaggle.com/code/dasmehdixtr/driver-classification-via-neural-networks obteve-se o seguinte resultado para 1100 épocas:\n",
        "\n",
        "Epoch 1100/1100\n",
        "1863/1863 [================] - 8s 4ms/step - loss: 1.2038 - accuracy: 0.5480 - val_loss: 1.5502 - val_accuracy: 0.4582"
      ],
      "metadata": {
        "id": "B42CV5J1vaLD"
      }
    },
    {
      "cell_type": "markdown",
      "source": [
        "# Correlação Cruzada"
      ],
      "metadata": {
        "id": "5mKcEbGU09pE"
      }
    },
    {
      "cell_type": "code",
      "source": [
        "Somente uma característica"
      ],
      "metadata": {
        "id": "-YDjC-df1Lik"
      },
      "execution_count": null,
      "outputs": []
    },
    {
      "cell_type": "code",
      "source": [
        "from scipy import signal\n",
        "import matplotlib.pyplot as plt\n",
        "labels = data['class'].unique()\n",
        "for label in labels:\n",
        "    data_label = data[data['class']==label]\n",
        "    acc_label_x = data_label.iloc[:,0]\n",
        "    corr = signal.correlate(acc_label_x,np.ones(len(acc_label_x)),mode='same') / len(acc_label_x)\n",
        "    clock= np.arange(64, len(acc_label_x), 128)\n",
        "    plt.plot(clock, corr[clock],label= label)\n",
        "plt.legend()\n",
        "plt.title('cross-correlation-features for AccelX')\n",
        "plt.show()"
      ],
      "metadata": {
        "colab": {
          "base_uri": "https://localhost:8080/",
          "height": 281
        },
        "id": "dvNGWmLz1Uwt",
        "outputId": "1398ab79-70f5-440d-b877-87e7955b9110"
      },
      "execution_count": null,
      "outputs": [
        {
          "output_type": "display_data",
          "data": {
            "text/plain": [
              "<Figure size 432x288 with 1 Axes>"
            ],
            "image/png": "[encoded data removed]"
          },
          "metadata": {
            "needs_background": "light"
          }
        }
      ]
    },
    {
      "cell_type": "markdown",
      "source": [
        "Todas as características. Modelo salvo em \"data_prossed\""
      ],
      "metadata": {
        "id": "WYejgpkD1fy1"
      }
    },
    {
      "cell_type": "code",
      "source": [
        "from scipy import signal\n",
        "import matplotlib.pyplot as plt\n",
        "data_featured = pd.DataFrame()\n",
        "data_prossed = pd.DataFrame()\n",
        "labels = data['class'].unique()\n",
        "\n",
        "for col in np.array([0,1,2,4,5,6]):    \n",
        "    for label in labels:\n",
        "        data_label = data[data['class']==label]\n",
        "        acc_label_x = data_label.iloc[:,col]\n",
        "        corr = signal.correlate(acc_label_x,np.ones(len(acc_label_x)),mode='same') / len(acc_label_x)\n",
        "        data_featured=pd.concat([data_featured,pd.DataFrame(corr)], ignore_index=True)\n",
        "        #clock= np.arange(64, len(acc_label_x), 128)\n",
        "        #plt.plot(clock, corr[clock],label= label)\n",
        "    data_prossed = pd.concat([data_prossed,data_featured],axis=1,ignore_index=True)\n",
        "    data_featured = pd.DataFrame()\n",
        "#plt.legend()\n",
        "#plt.title('cross-correlation-features for AccelX')\n",
        "#plt.show()"
      ],
      "metadata": {
        "id": "MXj7eSBN1xZm"
      },
      "execution_count": null,
      "outputs": []
    },
    {
      "cell_type": "code",
      "source": [
        "data_prossed"
      ],
      "metadata": {
        "colab": {
          "base_uri": "https://localhost:8080/",
          "height": 424
        },
        "id": "MhRrAPV11wvv",
        "outputId": "f9eb7f74-dc82-4f66-d450-0ec0e4e52c87"
      },
      "execution_count": null,
      "outputs": [
        {
          "output_type": "execute_result",
          "data": {
            "text/plain": [
              "              0         1         2         3         4         5\n",
              "0      0.335816 -1.178194  4.705044  0.201233  0.194161 -2.479797\n",
              "1      0.335968 -1.178154  4.705750  0.201219  0.194089 -2.479784\n",
              "2      0.336122 -1.178118  4.706456  0.201206  0.194013 -2.479773\n",
              "3      0.336269 -1.178084  4.707161  0.201194  0.193934 -2.479765\n",
              "4      0.336412 -1.178287  4.707869  0.201186  0.193683 -2.479995\n",
              "...         ...       ...       ...       ...       ...       ...\n",
              "99353  0.013872 -0.487521  4.873885  0.025477 -0.028620 -1.841336\n",
              "99354  0.013963 -0.487154  4.873371  0.025390 -0.028386 -1.840768\n",
              "99355  0.014052 -0.486855  4.872858  0.025273 -0.028073 -1.839946\n",
              "99356  0.014130 -0.486611  4.872345  0.025148 -0.027737 -1.838944\n",
              "99357  0.014198 -0.486379  4.871833  0.025021 -0.027398 -1.837812\n",
              "\n",
              "[99358 rows x 6 columns]"
            ],
            "text/html": [
              "\n",
              "  <div id=\"df-e3a751c2-56f7-49f5-84e6-fe6bff409c33\">\n",
              "    <div class=\"colab-df-container\">\n",
              "      <div>\n",
              "<style scoped>\n",
              "    .dataframe tbody tr th:only-of-type {\n",
              "        vertical-align: middle;\n",
              "    }\n",
              "\n",
              "    .dataframe tbody tr th {\n",
              "        vertical-align: top;\n",
              "    }\n",
              "\n",
              "    .dataframe thead th {\n",
              "        text-align: right;\n",
              "    }\n",
              "</style>\n",
              "<table border=\"1\" class=\"dataframe\">\n",
              "  <thead>\n",
              "    <tr style=\"text-align: right;\">\n",
              "      <th></th>\n",
              "      <th>0</th>\n",
              "      <th>1</th>\n",
              "      <th>2</th>\n",
              "      <th>3</th>\n",
              "      <th>4</th>\n",
              "      <th>5</th>\n",
              "    </tr>\n",
              "  </thead>\n",
              "  <tbody>\n",
              "    <tr>\n",
              "      <th>0</th>\n",
              "      <td>0.335816</td>\n",
              "      <td>-1.178194</td>\n",
              "      <td>4.705044</td>\n",
              "      <td>0.201233</td>\n",
              "      <td>0.194161</td>\n",
              "      <td>-2.479797</td>\n",
              "    </tr>\n",
              "    <tr>\n",
              "      <th>1</th>\n",
              "      <td>0.335968</td>\n",
              "      <td>-1.178154</td>\n",
              "      <td>4.705750</td>\n",
              "      <td>0.201219</td>\n",
              "      <td>0.194089</td>\n",
              "      <td>-2.479784</td>\n",
              "    </tr>\n",
              "    <tr>\n",
              "      <th>2</th>\n",
              "      <td>0.336122</td>\n",
              "      <td>-1.178118</td>\n",
              "      <td>4.706456</td>\n",
              "      <td>0.201206</td>\n",
              "      <td>0.194013</td>\n",
              "      <td>-2.479773</td>\n",
              "    </tr>\n",
              "    <tr>\n",
              "      <th>3</th>\n",
              "      <td>0.336269</td>\n",
              "      <td>-1.178084</td>\n",
              "      <td>4.707161</td>\n",
              "      <td>0.201194</td>\n",
              "      <td>0.193934</td>\n",
              "      <td>-2.479765</td>\n",
              "    </tr>\n",
              "    <tr>\n",
              "      <th>4</th>\n",
              "      <td>0.336412</td>\n",
              "      <td>-1.178287</td>\n",
              "      <td>4.707869</td>\n",
              "      <td>0.201186</td>\n",
              "      <td>0.193683</td>\n",
              "      <td>-2.479995</td>\n",
              "    </tr>\n",
              "    <tr>\n",
              "      <th>...</th>\n",
              "      <td>...</td>\n",
              "      <td>...</td>\n",
              "      <td>...</td>\n",
              "      <td>...</td>\n",
              "      <td>...</td>\n",
              "      <td>...</td>\n",
              "    </tr>\n",
              "    <tr>\n",
              "      <th>99353</th>\n",
              "      <td>0.013872</td>\n",
              "      <td>-0.487521</td>\n",
              "      <td>4.873885</td>\n",
              "      <td>0.025477</td>\n",
              "      <td>-0.028620</td>\n",
              "      <td>-1.841336</td>\n",
              "    </tr>\n",
              "    <tr>\n",
              "      <th>99354</th>\n",
              "      <td>0.013963</td>\n",
              "      <td>-0.487154</td>\n",
              "      <td>4.873371</td>\n",
              "      <td>0.025390</td>\n",
              "      <td>-0.028386</td>\n",
              "      <td>-1.840768</td>\n",
              "    </tr>\n",
              "    <tr>\n",
              "      <th>99355</th>\n",
              "      <td>0.014052</td>\n",
              "      <td>-0.486855</td>\n",
              "      <td>4.872858</td>\n",
              "      <td>0.025273</td>\n",
              "      <td>-0.028073</td>\n",
              "      <td>-1.839946</td>\n",
              "    </tr>\n",
              "    <tr>\n",
              "      <th>99356</th>\n",
              "      <td>0.014130</td>\n",
              "      <td>-0.486611</td>\n",
              "      <td>4.872345</td>\n",
              "      <td>0.025148</td>\n",
              "      <td>-0.027737</td>\n",
              "      <td>-1.838944</td>\n",
              "    </tr>\n",
              "    <tr>\n",
              "      <th>99357</th>\n",
              "      <td>0.014198</td>\n",
              "      <td>-0.486379</td>\n",
              "      <td>4.871833</td>\n",
              "      <td>0.025021</td>\n",
              "      <td>-0.027398</td>\n",
              "      <td>-1.837812</td>\n",
              "    </tr>\n",
              "  </tbody>\n",
              "</table>\n",
              "<p>99358 rows × 6 columns</p>\n",
              "</div>\n",
              "      <button class=\"colab-df-convert\" onclick=\"convertToInteractive('df-e3a751c2-56f7-49f5-84e6-fe6bff409c33')\"\n",
              "              title=\"Convert this dataframe to an interactive table.\"\n",
              "              style=\"display:none;\">\n",
              "        \n",
              "  <svg xmlns=\"http://www.w3.org/2000/svg\" height=\"24px\"viewBox=\"0 0 24 24\"\n",
              "       width=\"24px\">\n",
              "    <path d=\"M0 0h24v24H0V0z\" fill=\"none\"/>\n",
              "    <path d=\"M18.56 5.44l.94 2.06.94-2.06 2.06-.94-2.06-.94-.94-2.06-.94 2.06-2.06.94zm-11 1L8.5 8.5l.94-2.06 2.06-.94-2.06-.94L8.5 2.5l-.94 2.06-2.06.94zm10 10l.94 2.06.94-2.06 2.06-.94-2.06-.94-.94-2.06-.94 2.06-2.06.94z\"/><path d=\"M17.41 7.96l-1.37-1.37c-.4-.4-.92-.59-1.43-.59-.52 0-1.04.2-1.43.59L10.3 9.45l-7.72 7.72c-.78.78-.78 2.05 0 2.83L4 21.41c.39.39.9.59 1.41.59.51 0 1.02-.2 1.41-.59l7.78-7.78 2.81-2.81c.8-.78.8-2.07 0-2.86zM5.41 20L4 18.59l7.72-7.72 1.47 1.35L5.41 20z\"/>\n",
              "  </svg>\n",
              "      </button>\n",
              "      \n",
              "  <style>\n",
              "    .colab-df-container {\n",
              "      display:flex;\n",
              "      flex-wrap:wrap;\n",
              "      gap: 12px;\n",
              "    }\n",
              "\n",
              "    .colab-df-convert {\n",
              "      background-color: #E8F0FE;\n",
              "      border: none;\n",
              "      border-radius: 50%;\n",
              "      cursor: pointer;\n",
              "      display: none;\n",
              "      fill: #1967D2;\n",
              "      height: 32px;\n",
              "      padding: 0 0 0 0;\n",
              "      width: 32px;\n",
              "    }\n",
              "\n",
              "    .colab-df-convert:hover {\n",
              "      background-color: #E2EBFA;\n",
              "      box-shadow: 0px 1px 2px rgba(60, 64, 67, 0.3), 0px 1px 3px 1px rgba(60, 64, 67, 0.15);\n",
              "      fill: #174EA6;\n",
              "    }\n",
              "\n",
              "    [theme=dark] .colab-df-convert {\n",
              "      background-color: #3B4455;\n",
              "      fill: #D2E3FC;\n",
              "    }\n",
              "\n",
              "    [theme=dark] .colab-df-convert:hover {\n",
              "      background-color: #434B5C;\n",
              "      box-shadow: 0px 1px 3px 1px rgba(0, 0, 0, 0.15);\n",
              "      filter: drop-shadow(0px 1px 2px rgba(0, 0, 0, 0.3));\n",
              "      fill: #FFFFFF;\n",
              "    }\n",
              "  </style>\n",
              "\n",
              "      <script>\n",
              "        const buttonEl =\n",
              "          document.querySelector('#df-e3a751c2-56f7-49f5-84e6-fe6bff409c33 button.colab-df-convert');\n",
              "        buttonEl.style.display =\n",
              "          google.colab.kernel.accessAllowed ? 'block' : 'none';\n",
              "\n",
              "        async function convertToInteractive(key) {\n",
              "          const element = document.querySelector('#df-e3a751c2-56f7-49f5-84e6-fe6bff409c33');\n",
              "          const dataTable =\n",
              "            await google.colab.kernel.invokeFunction('convertToInteractive',\n",
              "                                                     [key], {});\n",
              "          if (!dataTable) return;\n",
              "\n",
              "          const docLinkHtml = 'Like what you see? Visit the ' +\n",
              "            '<a target=\"_blank\" href=https://colab.research.google.com/notebooks/data_table.ipynb>data table notebook</a>'\n",
              "            + ' to learn more about interactive tables.';\n",
              "          element.innerHTML = '';\n",
              "          dataTable['output_type'] = 'display_data';\n",
              "          await google.colab.output.renderOutput(dataTable, element);\n",
              "          const docLink = document.createElement('div');\n",
              "          docLink.innerHTML = docLinkHtml;\n",
              "          element.appendChild(docLink);\n",
              "        }\n",
              "      </script>\n",
              "    </div>\n",
              "  </div>\n",
              "  "
            ]
          },
          "metadata": {},
          "execution_count": 18
        }
      ]
    },
    {
      "cell_type": "code",
      "source": [
        "data_prossed['class'] = data['class']\n",
        "x = data_prossed.drop([\"class\"],axis=1)\n",
        "y = data_prossed[\"class\"].values"
      ],
      "metadata": {
        "id": "ZtpbHbXh18rr"
      },
      "execution_count": null,
      "outputs": []
    },
    {
      "cell_type": "code",
      "source": [
        "from sklearn.preprocessing import LabelEncoder\n",
        "y = LabelEncoder().fit_transform(y)\n",
        "from sklearn.model_selection import train_test_split\n",
        "X_train, X_test, y_train, y_test = train_test_split(x, y, test_size=0.25, shuffle=True)"
      ],
      "metadata": {
        "id": "vDJLYo1U1_98"
      },
      "execution_count": null,
      "outputs": []
    },
    {
      "cell_type": "code",
      "source": [
        "import xgboost as xgb"
      ],
      "metadata": {
        "id": "-sOFiEHA2D8N"
      },
      "execution_count": null,
      "outputs": []
    },
    {
      "cell_type": "code",
      "source": [
        "from sklearn.svm import SVC\n",
        "from sklearn.neighbors import KNeighborsClassifier\n",
        "from sklearn.naive_bayes import GaussianNB\n",
        "from sklearn.linear_model import SGDClassifier\n",
        "\n",
        "sgd = SGDClassifier()\n",
        "sgd.fit(X_train,y_train)\n",
        "nb = GaussianNB()\n",
        "nb.fit(X_train,y_train)\n",
        "knn = KNeighborsClassifier(n_neighbors = 3) #n_neighbors = k\n",
        "knn.fit(X_train,y_train)\n",
        "svm = SVC(random_state = 1)\n",
        "svm.fit(X_train,y_train)\n",
        "print(\"SVM accuracy is :\",svm.score(X_test,y_test))\n",
        "print('accuracy of bayes in test data is :', nb.score(X_test,y_test))\n",
        "print('acc_of_sgd is: ', sgd.score(X_test,y_test))\n",
        "print('acc_knn: ',knn.score(X_test,y_test))"
      ],
      "metadata": {
        "colab": {
          "base_uri": "https://localhost:8080/"
        },
        "id": "SYBmyZiT2G6F",
        "outputId": "8b657269-d2d4-49a0-f181-3964eaec3a9a"
      },
      "execution_count": null,
      "outputs": [
        {
          "output_type": "stream",
          "name": "stdout",
          "text": [
            "SVM accuracy is : 0.8371980676328502\n",
            "accuracy of bayes in test data is : 0.6332125603864734\n",
            "acc_of_sgd is:  0.7215780998389694\n",
            "acc_knn:  0.9998792270531401\n"
          ]
        }
      ]
    }
  ]
}