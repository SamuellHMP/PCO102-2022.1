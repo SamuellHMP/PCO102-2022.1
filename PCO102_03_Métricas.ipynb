{
  "nbformat": 4,
  "nbformat_minor": 0,
  "metadata": {
    "colab": {
      "name": "PCO102-03-Métricas.ipynb",
      "provenance": [],
      "authorship_tag": "ABX9TyO+/33g3DFexiB34EzGnb6L",
      "include_colab_link": true
    },
    "kernelspec": {
      "name": "python3",
      "display_name": "Python 3"
    },
    "language_info": {
      "name": "python"
    }
  },
  "cells": [
    {
      "cell_type": "markdown",
      "metadata": {
        "id": "view-in-github",
        "colab_type": "text"
      },
      "source": [
        "<a href=\"https://colab.research.google.com/github/SamuellHMP/PCO102-2022.1/blob/main/PCO102_03_M%C3%A9tricas.ipynb\" target=\"_parent\"><img src=\"https://colab.research.google.com/assets/colab-badge.svg\" alt=\"Open In Colab\"/></a>"
      ]
    },
    {
      "cell_type": "markdown",
      "source": [
        "# Métricas\n",
        "\n",
        "Foram escolhidas duas métricas para aplicar aos resultados apresentados na etapa anterior.\n",
        "\n",
        "Desta forma, apresentar a melhor técnica para as métricas avaliativas utilizadas."
      ],
      "metadata": {
        "id": "Tj8Zj-wGWqUl"
      }
    },
    {
      "cell_type": "markdown",
      "source": [
        "# Rede Neural Artificial"
      ],
      "metadata": {
        "id": "5yLbvP_Z0Dya"
      }
    },
    {
      "cell_type": "code",
      "source": [
        "import numpy as np\n",
        "import pandas as pd\n",
        "import gdown\n",
        "import os\n",
        "import PIL\n",
        "import tensorflow as tf\n",
        "from tensorflow import keras\n",
        "import matplotlib.pyplot as plt"
      ],
      "metadata": {
        "id": "bxntzeqkscQD"
      },
      "execution_count": 1,
      "outputs": []
    },
    {
      "cell_type": "code",
      "source": [
        "gdown.download(url='https://drive.google.com/uc?id=1lOWV8oBweRPSdUhZNRzEPZsD0R5VxGaX', output='Carla_Simulator.csv')"
      ],
      "metadata": {
        "colab": {
          "base_uri": "https://localhost:8080/",
          "height": 105
        },
        "id": "F61bkwJVtPuc",
        "outputId": "744c8fb6-2a0e-45c6-d549-bd7b4cc9d225"
      },
      "execution_count": 2,
      "outputs": [
        {
          "output_type": "stream",
          "name": "stderr",
          "text": [
            "Downloading...\n",
            "From: https://drive.google.com/uc?id=1lOWV8oBweRPSdUhZNRzEPZsD0R5VxGaX\n",
            "To: /content/Carla_Simulator.csv\n",
            "100%|██████████| 12.6M/12.6M [00:00<00:00, 142MB/s]\n"
          ]
        },
        {
          "output_type": "execute_result",
          "data": {
            "text/plain": [
              "'Carla_Simulator.csv'"
            ],
            "application/vnd.google.colaboratory.intrinsic+json": {
              "type": "string"
            }
          },
          "metadata": {},
          "execution_count": 2
        }
      ]
    },
    {
      "cell_type": "code",
      "source": [
        "data = pd.read_csv(\"Carla_Simulator.csv\",index_col=0)"
      ],
      "metadata": {
        "id": "AGrh0jGEstUr"
      },
      "execution_count": 3,
      "outputs": []
    },
    {
      "cell_type": "code",
      "source": [
        "data['class'].unique()"
      ],
      "metadata": {
        "colab": {
          "base_uri": "https://localhost:8080/"
        },
        "id": "HROPgUH5tmq8",
        "outputId": "779b12f4-0072-42d3-cc14-f6a32ce2e7ae"
      },
      "execution_count": 4,
      "outputs": [
        {
          "output_type": "execute_result",
          "data": {
            "text/plain": [
              "array(['apo', 'onder', 'hurcan', 'gonca', 'mehdi', 'berk', 'selin'],\n",
              "      dtype=object)"
            ]
          },
          "metadata": {},
          "execution_count": 4
        }
      ]
    },
    {
      "cell_type": "code",
      "source": [
        "x = data.drop([\"class\"],axis=1)\n",
        "y = data[\"class\"].values\n",
        "from sklearn.preprocessing import LabelEncoder\n",
        "y = LabelEncoder().fit_transform(y)"
      ],
      "metadata": {
        "id": "yjejsVwPtyPT"
      },
      "execution_count": 5,
      "outputs": []
    },
    {
      "cell_type": "code",
      "source": [
        "from sklearn.model_selection import train_test_split\n",
        "X_train, X_test, y_train, y_test = train_test_split(x, y, test_size=0.25, shuffle=True)\n",
        "print(\"Train Set Shape: \", X_train.shape)\n",
        "print(\"Test Set Shape: \", X_test.shape)"
      ],
      "metadata": {
        "colab": {
          "base_uri": "https://localhost:8080/"
        },
        "id": "4dR2m_kft5Dx",
        "outputId": "db7e313b-f471-423c-d652-44dda16c3016"
      },
      "execution_count": 6,
      "outputs": [
        {
          "output_type": "stream",
          "name": "stdout",
          "text": [
            "Train Set Shape:  (74518, 6)\n",
            "Test Set Shape:  (24840, 6)\n"
          ]
        }
      ]
    },
    {
      "cell_type": "code",
      "source": [
        "from tensorflow.python.keras.utils.np_utils import to_categorical\n",
        "y_train = to_categorical(y_train, num_classes=7)\n",
        "y_test = to_categorical(y_test, num_classes=7)"
      ],
      "metadata": {
        "id": "ozZ9Ps4suAWS"
      },
      "execution_count": 7,
      "outputs": []
    },
    {
      "cell_type": "code",
      "source": [
        "from tensorflow.python.keras.models import Sequential\n",
        "from tensorflow.python.keras.layers import Dense\n",
        "from tensorflow.python.keras.callbacks import EarlyStopping\n",
        "from tensorflow.python.keras.layers import Dropout\n",
        "\n",
        "early_stop = EarlyStopping(monitor='loss', patience=2)\n",
        "model = Sequential()\n",
        "\n",
        "model.add(Dense(32, activation='relu', input_shape=(6,),kernel_initializer='random_uniform'))\n",
        "model.add(Dense(64, activation='relu',kernel_initializer='random_uniform'))\n",
        "model.add(Dense(128, activation='relu',kernel_initializer='random_uniform'))\n",
        "model.add(Dense(256, activation='relu',kernel_initializer='random_uniform'))\n",
        "model.add(Dropout(0.25))\n",
        "model.add(Dense(512, activation='relu',kernel_initializer='random_uniform'))\n",
        "model.add(Dropout(0.25))\n",
        "model.add(Dense(256, activation='relu',kernel_initializer='random_uniform'))\n",
        "model.add(Dropout(0.25))\n",
        "model.add(Dense(128, activation='relu',kernel_initializer='random_uniform'))\n",
        "model.add(Dense(64, activation='relu',kernel_initializer='random_uniform'))\n",
        "model.add(Dense(128, activation='relu',kernel_initializer='random_uniform'))\n",
        "model.add(Dense(7, activation='softmax',kernel_initializer='random_uniform'))\n",
        "\n",
        "model.compile(optimizer='adam', loss='categorical_crossentropy', metrics=['accuracy'])"
      ],
      "metadata": {
        "id": "r6ShTQpiuJJc"
      },
      "execution_count": 8,
      "outputs": []
    },
    {
      "cell_type": "code",
      "source": [
        "epochs = 10\n",
        "hist = model.fit(X_train , y_train , epochs=epochs, validation_split=0.2)"
      ],
      "metadata": {
        "colab": {
          "base_uri": "https://localhost:8080/"
        },
        "id": "lKBG_5wXuN3U",
        "outputId": "27cf1b09-0cda-440a-d1f3-f1c449ffaeef"
      },
      "execution_count": 9,
      "outputs": [
        {
          "output_type": "stream",
          "name": "stdout",
          "text": [
            "Epoch 1/10\n",
            "1863/1863 [==============================] - 20s 10ms/step - loss: 1.8742 - accuracy: 0.2125 - val_loss: 1.8579 - val_accuracy: 0.2171\n",
            "Epoch 2/10\n",
            "1863/1863 [==============================] - 18s 10ms/step - loss: 1.8540 - accuracy: 0.2230 - val_loss: 1.8505 - val_accuracy: 0.2165\n",
            "Epoch 3/10\n",
            "1863/1863 [==============================] - 19s 10ms/step - loss: 1.8499 - accuracy: 0.2265 - val_loss: 1.8441 - val_accuracy: 0.2270\n",
            "Epoch 4/10\n",
            "1863/1863 [==============================] - 18s 10ms/step - loss: 1.8472 - accuracy: 0.2291 - val_loss: 1.8308 - val_accuracy: 0.2525\n",
            "Epoch 5/10\n",
            "1863/1863 [==============================] - 19s 10ms/step - loss: 1.8368 - accuracy: 0.2420 - val_loss: 1.8414 - val_accuracy: 0.2290\n",
            "Epoch 6/10\n",
            "1863/1863 [==============================] - 18s 10ms/step - loss: 1.8281 - accuracy: 0.2475 - val_loss: 1.8187 - val_accuracy: 0.2652\n",
            "Epoch 7/10\n",
            "1863/1863 [==============================] - 18s 10ms/step - loss: 1.8231 - accuracy: 0.2511 - val_loss: 1.8129 - val_accuracy: 0.2559\n",
            "Epoch 8/10\n",
            "1863/1863 [==============================] - 20s 10ms/step - loss: 1.8197 - accuracy: 0.2572 - val_loss: 1.8162 - val_accuracy: 0.2574\n",
            "Epoch 9/10\n",
            "1863/1863 [==============================] - 18s 10ms/step - loss: 1.8160 - accuracy: 0.2576 - val_loss: 1.8026 - val_accuracy: 0.2685\n",
            "Epoch 10/10\n",
            "1863/1863 [==============================] - 18s 10ms/step - loss: 1.8118 - accuracy: 0.2628 - val_loss: 1.8061 - val_accuracy: 0.2689\n"
          ]
        }
      ]
    },
    {
      "cell_type": "markdown",
      "source": [
        "## Métrica\n",
        "Referência: https://www.tensorflow.org/tutorials/images/classification\n",
        "\n",
        "Criação de gráficos de acurácia e perda nos conjuntos de treinamento e validação.\n",
        "\n",
        "Os gráficos mostram que a precisão do treinamento e a precisão da validação estão com grandes margens, e o modelo alcançou apenas cerca de 26% de precisão no conjunto de validação.\n",
        "\n",
        "Logo abaixo, o modelo é refeito aumentando o número de épocas de 10 para 20, e, com isso, obtem-se uma acurácia de quase 30%."
      ],
      "metadata": {
        "id": "2XsqJizgc1RT"
      }
    },
    {
      "cell_type": "code",
      "source": [
        "acc = hist.history['accuracy']\n",
        "val_acc = hist.history['val_accuracy']\n",
        "\n",
        "loss = hist.history['loss']\n",
        "val_loss = hist.history['val_loss']\n",
        "\n",
        "epochs_range = range(epochs)\n",
        "\n",
        "plt.figure(figsize=(8, 8))\n",
        "plt.subplot(1, 2, 1)\n",
        "plt.plot(epochs_range, acc, label='Training Accuracy')\n",
        "plt.plot(epochs_range, val_acc, label='Validation Accuracy')\n",
        "plt.legend(loc='lower right')\n",
        "plt.title('Training and Validation Accuracy')\n",
        "\n",
        "plt.subplot(1, 2, 2)\n",
        "plt.plot(epochs_range, loss, label='Training Loss')\n",
        "plt.plot(epochs_range, val_loss, label='Validation Loss')\n",
        "plt.legend(loc='upper right')\n",
        "plt.title('Training and Validation Loss')\n",
        "plt.show()"
      ],
      "metadata": {
        "colab": {
          "base_uri": "https://localhost:8080/",
          "height": 499
        },
        "id": "AUpzQVGWjvMd",
        "outputId": "747cbbaf-e765-4371-f1f7-6e029841087e"
      },
      "execution_count": 10,
      "outputs": [
        {
          "output_type": "display_data",
          "data": {
            "text/plain": [
              "<Figure size 576x576 with 2 Axes>"
            ],
            "image/png": "[encoded data removed]"
          },
          "metadata": {
            "needs_background": "light"
          }
        }
      ]
    },
    {
      "cell_type": "code",
      "source": [
        "epochs = 20\n",
        "hist = model.fit(X_train , y_train , epochs=epochs, validation_split=0.2)"
      ],
      "metadata": {
        "colab": {
          "base_uri": "https://localhost:8080/"
        },
        "id": "_LlVBKB_uZo6",
        "outputId": "95f7c88f-e3ec-48a2-f40a-61fa2b147a72"
      },
      "execution_count": 11,
      "outputs": [
        {
          "output_type": "stream",
          "name": "stdout",
          "text": [
            "Epoch 1/20\n",
            "1863/1863 [==============================] - 19s 10ms/step - loss: 1.8099 - accuracy: 0.2635 - val_loss: 1.8008 - val_accuracy: 0.2647\n",
            "Epoch 2/20\n",
            "1863/1863 [==============================] - 18s 10ms/step - loss: 1.8075 - accuracy: 0.2656 - val_loss: 1.7990 - val_accuracy: 0.2705\n",
            "Epoch 3/20\n",
            "1863/1863 [==============================] - 17s 9ms/step - loss: 1.8020 - accuracy: 0.2677 - val_loss: 1.7943 - val_accuracy: 0.2712\n",
            "Epoch 4/20\n",
            "1863/1863 [==============================] - 18s 9ms/step - loss: 1.7968 - accuracy: 0.2737 - val_loss: 1.7849 - val_accuracy: 0.2805\n",
            "Epoch 5/20\n",
            "1863/1863 [==============================] - 18s 10ms/step - loss: 1.7914 - accuracy: 0.2769 - val_loss: 1.7805 - val_accuracy: 0.2833\n",
            "Epoch 6/20\n",
            "1863/1863 [==============================] - 18s 10ms/step - loss: 1.7863 - accuracy: 0.2771 - val_loss: 1.7836 - val_accuracy: 0.2738\n",
            "Epoch 7/20\n",
            "1863/1863 [==============================] - 18s 10ms/step - loss: 1.7861 - accuracy: 0.2773 - val_loss: 1.7811 - val_accuracy: 0.2780\n",
            "Epoch 8/20\n",
            "1863/1863 [==============================] - 18s 9ms/step - loss: 1.7828 - accuracy: 0.2800 - val_loss: 1.7788 - val_accuracy: 0.2794\n",
            "Epoch 9/20\n",
            "1863/1863 [==============================] - 18s 9ms/step - loss: 1.7819 - accuracy: 0.2800 - val_loss: 1.7815 - val_accuracy: 0.2757\n",
            "Epoch 10/20\n",
            "1863/1863 [==============================] - 19s 10ms/step - loss: 1.7768 - accuracy: 0.2838 - val_loss: 1.7700 - val_accuracy: 0.2814\n",
            "Epoch 11/20\n",
            "1863/1863 [==============================] - 18s 9ms/step - loss: 1.7751 - accuracy: 0.2858 - val_loss: 1.7743 - val_accuracy: 0.2834\n",
            "Epoch 12/20\n",
            "1863/1863 [==============================] - 18s 10ms/step - loss: 1.7717 - accuracy: 0.2877 - val_loss: 1.7670 - val_accuracy: 0.2849\n",
            "Epoch 13/20\n",
            "1863/1863 [==============================] - 18s 10ms/step - loss: 1.7685 - accuracy: 0.2882 - val_loss: 1.7617 - val_accuracy: 0.2861\n",
            "Epoch 14/20\n",
            "1863/1863 [==============================] - 18s 10ms/step - loss: 1.7655 - accuracy: 0.2899 - val_loss: 1.7604 - val_accuracy: 0.2884\n",
            "Epoch 15/20\n",
            "1863/1863 [==============================] - 18s 9ms/step - loss: 1.7629 - accuracy: 0.2895 - val_loss: 1.7650 - val_accuracy: 0.2825\n",
            "Epoch 16/20\n",
            "1863/1863 [==============================] - 17s 9ms/step - loss: 1.7612 - accuracy: 0.2895 - val_loss: 1.7624 - val_accuracy: 0.2877\n",
            "Epoch 17/20\n",
            "1863/1863 [==============================] - 17s 9ms/step - loss: 1.7583 - accuracy: 0.2929 - val_loss: 1.7566 - val_accuracy: 0.2934\n",
            "Epoch 18/20\n",
            "1863/1863 [==============================] - 18s 9ms/step - loss: 1.7531 - accuracy: 0.2955 - val_loss: 1.7633 - val_accuracy: 0.2903\n",
            "Epoch 19/20\n",
            "1863/1863 [==============================] - 19s 10ms/step - loss: 1.7527 - accuracy: 0.2959 - val_loss: 1.7486 - val_accuracy: 0.2873\n",
            "Epoch 20/20\n",
            "1863/1863 [==============================] - 18s 9ms/step - loss: 1.7508 - accuracy: 0.2955 - val_loss: 1.7461 - val_accuracy: 0.2907\n"
          ]
        }
      ]
    },
    {
      "cell_type": "code",
      "source": [
        "acc = hist.history['accuracy']\n",
        "val_acc = hist.history['val_accuracy']\n",
        "\n",
        "loss = hist.history['loss']\n",
        "val_loss = hist.history['val_loss']\n",
        "\n",
        "epochs_range = range(epochs)\n",
        "\n",
        "plt.figure(figsize=(8, 8))\n",
        "plt.subplot(1, 2, 1)\n",
        "plt.plot(epochs_range, acc, label='Training Accuracy')\n",
        "plt.plot(epochs_range, val_acc, label='Validation Accuracy')\n",
        "plt.legend(loc='lower right')\n",
        "plt.title('Training and Validation Accuracy')\n",
        "\n",
        "plt.subplot(1, 2, 2)\n",
        "plt.plot(epochs_range, loss, label='Training Loss')\n",
        "plt.plot(epochs_range, val_loss, label='Validation Loss')\n",
        "plt.legend(loc='upper right')\n",
        "plt.title('Training and Validation Loss')\n",
        "plt.show()"
      ],
      "metadata": {
        "colab": {
          "base_uri": "https://localhost:8080/",
          "height": 499
        },
        "id": "0MTxhHF-okEj",
        "outputId": "f30cde70-1bb4-4832-874d-4cb4521422ce"
      },
      "execution_count": 12,
      "outputs": [
        {
          "output_type": "display_data",
          "data": {
            "text/plain": [
              "<Figure size 576x576 with 2 Axes>"
            ],
            "image/png": "[encoded data removed]"
          },
          "metadata": {
            "needs_background": "light"
          }
        }
      ]
    },
    {
      "cell_type": "markdown",
      "source": [
        "Com essa visualização, é possível perceber que o modelo parece convergir para uma melhor acurária à medida que o número de épocas aumenta, porém, isso acontece lentamente. Na referência deste trabalho, o autor chegou a executar o modelo para 1100 épocas, obtendo uma acurácia de quase 55%.\n",
        "\n",
        "Pode-se concluir que este modelo de Rede Neural Artificial não é o melhor classificador para o dataset trabalhado, e veremos a seguir modelos que alcançam uma taxa de acurária muito melhor com menos esforço computacional."
      ],
      "metadata": {
        "id": "BjjyzFaDqFcR"
      }
    },
    {
      "cell_type": "markdown",
      "source": [
        "# Correlação Cruzada"
      ],
      "metadata": {
        "id": "5mKcEbGU09pE"
      }
    },
    {
      "cell_type": "code",
      "source": [
        "from scipy import signal\n",
        "import matplotlib.pyplot as plt\n",
        "data_featured = pd.DataFrame()\n",
        "data_prossed = pd.DataFrame()\n",
        "labels = data['class'].unique()\n",
        "\n",
        "for col in np.array([0,1,2,4,5,6]):    \n",
        "    for label in labels:\n",
        "        data_label = data[data['class']==label]\n",
        "        acc_label_x = data_label.iloc[:,col]\n",
        "        corr = signal.correlate(acc_label_x,np.ones(len(acc_label_x)),mode='same') / len(acc_label_x)\n",
        "        data_featured=pd.concat([data_featured,pd.DataFrame(corr)], ignore_index=True)\n",
        "        #clock= np.arange(64, len(acc_label_x), 128)\n",
        "        #plt.plot(clock, corr[clock],label= label)\n",
        "    data_prossed = pd.concat([data_prossed,data_featured],axis=1,ignore_index=True)\n",
        "    data_featured = pd.DataFrame()\n",
        "#plt.legend()\n",
        "#plt.title('cross-correlation-features for AccelX')\n",
        "#plt.show()"
      ],
      "metadata": {
        "id": "MXj7eSBN1xZm"
      },
      "execution_count": 9,
      "outputs": []
    },
    {
      "cell_type": "code",
      "source": [
        "data_prossed['class'] = data['class']\n",
        "x = data_prossed.drop([\"class\"],axis=1)\n",
        "y = data_prossed[\"class\"].values"
      ],
      "metadata": {
        "id": "ZtpbHbXh18rr"
      },
      "execution_count": 10,
      "outputs": []
    },
    {
      "cell_type": "code",
      "source": [
        "from sklearn.preprocessing import LabelEncoder\n",
        "y = LabelEncoder().fit_transform(y)\n",
        "from sklearn.model_selection import train_test_split\n",
        "X_train, X_test, y_train, y_test = train_test_split(x, y, test_size=0.25, shuffle=True)"
      ],
      "metadata": {
        "id": "vDJLYo1U1_98"
      },
      "execution_count": 11,
      "outputs": []
    },
    {
      "cell_type": "code",
      "source": [
        "import xgboost as xgb"
      ],
      "metadata": {
        "id": "-sOFiEHA2D8N"
      },
      "execution_count": 12,
      "outputs": []
    },
    {
      "cell_type": "code",
      "source": [
        "from sklearn.svm import SVC\n",
        "from sklearn.neighbors import KNeighborsClassifier\n",
        "from sklearn.naive_bayes import GaussianNB\n",
        "from sklearn.linear_model import SGDClassifier\n",
        "\n",
        "sgd = SGDClassifier()\n",
        "sgd.fit(X_train,y_train)\n",
        "nb = GaussianNB()\n",
        "nb.fit(X_train,y_train)\n",
        "knn = KNeighborsClassifier(n_neighbors = 3) #n_neighbors = k\n",
        "knn.fit(X_train,y_train)\n",
        "svm = SVC(random_state = 1)\n",
        "svm.fit(X_train,y_train)"
      ],
      "metadata": {
        "colab": {
          "base_uri": "https://localhost:8080/"
        },
        "id": "SYBmyZiT2G6F",
        "outputId": "747efa74-3bce-4fc4-bb35-fb9376ae7f23"
      },
      "execution_count": 13,
      "outputs": [
        {
          "output_type": "execute_result",
          "data": {
            "text/plain": [
              "SVC(random_state=1)"
            ]
          },
          "metadata": {},
          "execution_count": 13
        }
      ]
    },
    {
      "cell_type": "markdown",
      "source": [
        "## Métrica: Acurácia\n",
        "Referência: https://www.kaggle.com/code/dasmehdixtr/high-accuracy-classification-via-cross-corrleation\n",
        "\n",
        "Este modelo já possui uma acurácia muito melhor do que o primeiro, chegando a uma acurária de aproximadamente 84% para o método SVM e quase 100% para o KNN."
      ],
      "metadata": {
        "id": "e-vB1ee0fyrL"
      }
    },
    {
      "cell_type": "code",
      "source": [
        "print(\"SVM accuracy is :\",svm.score(X_test,y_test))\n",
        "print('accuracy of bayes in test data is :', nb.score(X_test,y_test))\n",
        "print('acc_of_sgd is: ', sgd.score(X_test,y_test))\n",
        "print('acc_knn: ',knn.score(X_test,y_test))"
      ],
      "metadata": {
        "colab": {
          "base_uri": "https://localhost:8080/"
        },
        "id": "HNEOCYTaf7K6",
        "outputId": "ecf9c929-2e9f-4165-9973-edfe4849d1f8"
      },
      "execution_count": 14,
      "outputs": [
        {
          "output_type": "stream",
          "name": "stdout",
          "text": [
            "SVM accuracy is : 0.8394524959742351\n",
            "accuracy of bayes in test data is : 0.6294685990338165\n",
            "acc_of_sgd is:  0.7347423510466988\n",
            "acc_knn:  0.9999597423510467\n"
          ]
        }
      ]
    },
    {
      "cell_type": "markdown",
      "source": [
        "#Conclusão\n",
        "\n",
        "O melhor modelo de classificação dentre os aplicados é o KNN com uma acurácia de quase 100%.\n",
        "\n",
        "Limitações: não consegui aplicar a métrica das curvas ROC, pois o dataset é muito grande, com várias classes, e ao tentar construir o vetor de previsões, depois de 40 minutos, o algoritmo não convergiu e abortei o processo."
      ],
      "metadata": {
        "id": "n77Oi3Xu4GVw"
      }
    }
  ]
}