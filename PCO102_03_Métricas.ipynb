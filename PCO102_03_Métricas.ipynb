{
  "nbformat": 4,
  "nbformat_minor": 0,
  "metadata": {
    "colab": {
      "name": "PCO102-03-Métricas.ipynb",
      "provenance": [],
      "authorship_tag": "ABX9TyPAGzYsoxtNvbAvADvksNzm",
      "include_colab_link": true
    },
    "kernelspec": {
      "name": "python3",
      "display_name": "Python 3"
    },
    "language_info": {
      "name": "python"
    }
  },
  "cells": [
    {
      "cell_type": "markdown",
      "metadata": {
        "id": "view-in-github",
        "colab_type": "text"
      },
      "source": [
        "<a href=\"https://colab.research.google.com/github/SamuellHMP/PCO102-2022.1/blob/main/PCO102_03_M%C3%A9tricas.ipynb\" target=\"_parent\"><img src=\"https://colab.research.google.com/assets/colab-badge.svg\" alt=\"Open In Colab\"/></a>"
      ]
    },
    {
      "cell_type": "markdown",
      "source": [
        "# Métricas\n",
        "\n",
        "Esta parte do trabalho pretende aplicar métricas para avaliar os modelos construídos."
      ],
      "metadata": {
        "id": "Tj8Zj-wGWqUl"
      }
    },
    {
      "cell_type": "markdown",
      "source": [
        "# Rede Neural Artificial"
      ],
      "metadata": {
        "id": "5yLbvP_Z0Dya"
      }
    },
    {
      "cell_type": "code",
      "source": [
        "import numpy as np\n",
        "import pandas as pd\n",
        "import gdown\n",
        "import os\n",
        "import PIL\n",
        "import tensorflow as tf\n",
        "from tensorflow import keras\n",
        "import matplotlib.pyplot as plt"
      ],
      "metadata": {
        "id": "bxntzeqkscQD"
      },
      "execution_count": 1,
      "outputs": []
    },
    {
      "cell_type": "code",
      "source": [
        "gdown.download(url='https://drive.google.com/uc?id=1lOWV8oBweRPSdUhZNRzEPZsD0R5VxGaX', output='Carla_Simulator.csv')"
      ],
      "metadata": {
        "colab": {
          "base_uri": "https://localhost:8080/",
          "height": 105
        },
        "id": "F61bkwJVtPuc",
        "outputId": "5a900579-0f32-4006-aa96-4c038b556b5d"
      },
      "execution_count": 2,
      "outputs": [
        {
          "output_type": "stream",
          "name": "stderr",
          "text": [
            "Downloading...\n",
            "From: https://drive.google.com/uc?id=1lOWV8oBweRPSdUhZNRzEPZsD0R5VxGaX\n",
            "To: /content/Carla_Simulator.csv\n",
            "100%|██████████| 12.6M/12.6M [00:00<00:00, 99.2MB/s]\n"
          ]
        },
        {
          "output_type": "execute_result",
          "data": {
            "text/plain": [
              "'Carla_Simulator.csv'"
            ],
            "application/vnd.google.colaboratory.intrinsic+json": {
              "type": "string"
            }
          },
          "metadata": {},
          "execution_count": 2
        }
      ]
    },
    {
      "cell_type": "code",
      "source": [
        "data = pd.read_csv(\"Carla_Simulator.csv\",index_col=0)"
      ],
      "metadata": {
        "id": "AGrh0jGEstUr"
      },
      "execution_count": 3,
      "outputs": []
    },
    {
      "cell_type": "code",
      "source": [
        "data['class'].unique()"
      ],
      "metadata": {
        "colab": {
          "base_uri": "https://localhost:8080/"
        },
        "id": "HROPgUH5tmq8",
        "outputId": "ab6fc449-a3e6-4b86-e0a2-bfeb977691c9"
      },
      "execution_count": 4,
      "outputs": [
        {
          "output_type": "execute_result",
          "data": {
            "text/plain": [
              "array(['apo', 'onder', 'hurcan', 'gonca', 'mehdi', 'berk', 'selin'],\n",
              "      dtype=object)"
            ]
          },
          "metadata": {},
          "execution_count": 4
        }
      ]
    },
    {
      "cell_type": "code",
      "source": [
        "x = data.drop([\"class\"],axis=1)\n",
        "y = data[\"class\"].values\n",
        "from sklearn.preprocessing import LabelEncoder\n",
        "y = LabelEncoder().fit_transform(y)"
      ],
      "metadata": {
        "id": "yjejsVwPtyPT"
      },
      "execution_count": 5,
      "outputs": []
    },
    {
      "cell_type": "code",
      "source": [
        "from sklearn.model_selection import train_test_split\n",
        "X_train, X_test, y_train, y_test = train_test_split(x, y, test_size=0.25, shuffle=True)\n",
        "print(\"Train Set Shape: \", X_train.shape)\n",
        "print(\"Test Set Shape: \", X_test.shape)"
      ],
      "metadata": {
        "colab": {
          "base_uri": "https://localhost:8080/"
        },
        "id": "4dR2m_kft5Dx",
        "outputId": "dbb84e31-ca08-491e-f530-10948c5299b7"
      },
      "execution_count": 6,
      "outputs": [
        {
          "output_type": "stream",
          "name": "stdout",
          "text": [
            "Train Set Shape:  (74518, 6)\n",
            "Test Set Shape:  (24840, 6)\n"
          ]
        }
      ]
    },
    {
      "cell_type": "code",
      "source": [
        "from tensorflow.python.keras.utils.np_utils import to_categorical\n",
        "y_train = to_categorical(y_train, num_classes=7)\n",
        "y_test = to_categorical(y_test, num_classes=7)"
      ],
      "metadata": {
        "id": "ozZ9Ps4suAWS"
      },
      "execution_count": 7,
      "outputs": []
    },
    {
      "cell_type": "code",
      "source": [
        "from tensorflow.python.keras.models import Sequential\n",
        "from tensorflow.python.keras.layers import Dense\n",
        "from tensorflow.python.keras.callbacks import EarlyStopping\n",
        "from tensorflow.python.keras.layers import Dropout\n",
        "\n",
        "early_stop = EarlyStopping(monitor='loss', patience=2)\n",
        "model = Sequential()\n",
        "\n",
        "model.add(Dense(32, activation='relu', input_shape=(6,),kernel_initializer='random_uniform'))\n",
        "model.add(Dense(64, activation='relu',kernel_initializer='random_uniform'))\n",
        "model.add(Dense(128, activation='relu',kernel_initializer='random_uniform'))\n",
        "model.add(Dense(256, activation='relu',kernel_initializer='random_uniform'))\n",
        "model.add(Dropout(0.25))\n",
        "model.add(Dense(512, activation='relu',kernel_initializer='random_uniform'))\n",
        "model.add(Dropout(0.25))\n",
        "model.add(Dense(256, activation='relu',kernel_initializer='random_uniform'))\n",
        "model.add(Dropout(0.25))\n",
        "model.add(Dense(128, activation='relu',kernel_initializer='random_uniform'))\n",
        "model.add(Dense(64, activation='relu',kernel_initializer='random_uniform'))\n",
        "model.add(Dense(128, activation='relu',kernel_initializer='random_uniform'))\n",
        "model.add(Dense(7, activation='softmax',kernel_initializer='random_uniform'))\n",
        "\n",
        "model.compile(optimizer='adam', loss='categorical_crossentropy', metrics=['accuracy'])"
      ],
      "metadata": {
        "id": "r6ShTQpiuJJc"
      },
      "execution_count": 8,
      "outputs": []
    },
    {
      "cell_type": "code",
      "source": [
        "epochs = 10\n",
        "hist = model.fit(X_train , y_train , epochs=epochs, validation_split=0.2)"
      ],
      "metadata": {
        "colab": {
          "base_uri": "https://localhost:8080/"
        },
        "id": "lKBG_5wXuN3U",
        "outputId": "6dad0673-7e1d-4722-8de3-4c13cdfecd86"
      },
      "execution_count": 9,
      "outputs": [
        {
          "output_type": "stream",
          "name": "stdout",
          "text": [
            "Epoch 1/10\n",
            "1863/1863 [==============================] - 17s 8ms/step - loss: 1.8762 - accuracy: 0.2083 - val_loss: 1.8608 - val_accuracy: 0.2167\n",
            "Epoch 2/10\n",
            "1863/1863 [==============================] - 15s 8ms/step - loss: 1.8602 - accuracy: 0.2174 - val_loss: 1.8631 - val_accuracy: 0.2175\n",
            "Epoch 3/10\n",
            "1863/1863 [==============================] - 21s 11ms/step - loss: 1.8536 - accuracy: 0.2218 - val_loss: 1.8520 - val_accuracy: 0.2198\n",
            "Epoch 4/10\n",
            "1863/1863 [==============================] - 23s 12ms/step - loss: 1.8500 - accuracy: 0.2288 - val_loss: 1.8445 - val_accuracy: 0.2246\n",
            "Epoch 5/10\n",
            "1863/1863 [==============================] - 16s 9ms/step - loss: 1.8468 - accuracy: 0.2347 - val_loss: 1.8457 - val_accuracy: 0.2346\n",
            "Epoch 6/10\n",
            "1863/1863 [==============================] - 15s 8ms/step - loss: 1.8443 - accuracy: 0.2377 - val_loss: 1.8378 - val_accuracy: 0.2357\n",
            "Epoch 7/10\n",
            "1863/1863 [==============================] - 15s 8ms/step - loss: 1.8378 - accuracy: 0.2453 - val_loss: 1.8373 - val_accuracy: 0.2417\n",
            "Epoch 8/10\n",
            "1863/1863 [==============================] - 15s 8ms/step - loss: 1.8355 - accuracy: 0.2490 - val_loss: 1.8303 - val_accuracy: 0.2514\n",
            "Epoch 9/10\n",
            "1863/1863 [==============================] - 15s 8ms/step - loss: 1.8261 - accuracy: 0.2567 - val_loss: 1.8204 - val_accuracy: 0.2605\n",
            "Epoch 10/10\n",
            "1863/1863 [==============================] - 15s 8ms/step - loss: 1.8232 - accuracy: 0.2553 - val_loss: 1.8316 - val_accuracy: 0.2511\n"
          ]
        }
      ]
    },
    {
      "cell_type": "markdown",
      "source": [
        "## Métricas\n",
        "\n",
        "Referência: https://www.tensorflow.org/tutorials/images/classification\n",
        "\n",
        "Criação de gráficos de acurácia e perda nos conjuntos de treinamento e validação.\n",
        "\n",
        "Os gráficos mostram que a precisão do treinamento e a precisão da validação estão com grandes margens, e o modelo alcançou apenas cerca de 26% de precisão no conjunto de validação."
      ],
      "metadata": {
        "id": "2XsqJizgc1RT"
      }
    },
    {
      "cell_type": "code",
      "source": [
        "acc = hist.history['accuracy']\n",
        "val_acc = hist.history['val_accuracy']\n",
        "\n",
        "loss = hist.history['loss']\n",
        "val_loss = hist.history['val_loss']\n",
        "\n",
        "epochs_range = range(epochs)\n",
        "\n",
        "plt.figure(figsize=(8, 8))\n",
        "plt.subplot(1, 2, 1)\n",
        "plt.plot(epochs_range, acc, label='Training Accuracy')\n",
        "plt.plot(epochs_range, val_acc, label='Validation Accuracy')\n",
        "plt.legend(loc='lower right')\n",
        "plt.title('Training and Validation Accuracy')\n",
        "\n",
        "plt.subplot(1, 2, 2)\n",
        "plt.plot(epochs_range, loss, label='Training Loss')\n",
        "plt.plot(epochs_range, val_loss, label='Validation Loss')\n",
        "plt.legend(loc='upper right')\n",
        "plt.title('Training and Validation Loss')\n",
        "plt.show()"
      ],
      "metadata": {
        "id": "WTOETv1FL8h-",
        "colab": {
          "base_uri": "https://localhost:8080/",
          "height": 499
        },
        "outputId": "24c741db-7086-4eb5-95c4-303f54be4e74"
      },
      "execution_count": 11,
      "outputs": [
        {
          "output_type": "display_data",
          "data": {
            "text/plain": [
              "<Figure size 576x576 with 2 Axes>"
            ],
            "image/png": "[encoded data removed]"
          },
          "metadata": {
            "needs_background": "light"
          }
        }
      ]
    },
    {
      "cell_type": "markdown",
      "source": [
        "Com essa visualização, é possível perceber que o modelo parece convergir para uma melhor acurária à medida que o número de épocas aumenta, porém, isso acontece lentamente. Na referência deste trabalho, o autor chegou a executar o modelo para 1100 épocas, obtendo uma acurácia de quase 55%.\n",
        "\n",
        "Pode-se concluir que este modelo de Rede Neural Artificial não é o melhor classificador para o dataset trabalhado, e veremos a seguir modelos que alcançam uma taxa de acurária muito melhor com menos esforço computacional."
      ],
      "metadata": {
        "id": "tKnYdJ0l0-FL"
      }
    },
    {
      "cell_type": "markdown",
      "source": [
        "# Correlação Cruzada"
      ],
      "metadata": {
        "id": "5mKcEbGU09pE"
      }
    },
    {
      "cell_type": "code",
      "source": [
        "from scipy import signal\n",
        "import matplotlib.pyplot as plt\n",
        "data_featured = pd.DataFrame()\n",
        "data_prossed = pd.DataFrame()\n",
        "labels = data['class'].unique()\n",
        "\n",
        "for col in np.array([0,1,2,4,5,6]):    \n",
        "    for label in labels:\n",
        "        data_label = data[data['class']==label]\n",
        "        acc_label_x = data_label.iloc[:,col]\n",
        "        corr = signal.correlate(acc_label_x,np.ones(len(acc_label_x)),mode='same') / len(acc_label_x)\n",
        "        data_featured=pd.concat([data_featured,pd.DataFrame(corr)], ignore_index=True)\n",
        "        #clock= np.arange(64, len(acc_label_x), 128)\n",
        "        #plt.plot(clock, corr[clock],label= label)\n",
        "    data_prossed = pd.concat([data_prossed,data_featured],axis=1,ignore_index=True)\n",
        "    data_featured = pd.DataFrame()\n",
        "#plt.legend()\n",
        "#plt.title('cross-correlation-features for AccelX')\n",
        "#plt.show()"
      ],
      "metadata": {
        "id": "MXj7eSBN1xZm"
      },
      "execution_count": 12,
      "outputs": []
    },
    {
      "cell_type": "code",
      "source": [
        "data_prossed['class'] = data['class']\n",
        "x = data_prossed.drop([\"class\"],axis=1)\n",
        "y = data_prossed[\"class\"].values"
      ],
      "metadata": {
        "id": "ZtpbHbXh18rr"
      },
      "execution_count": 13,
      "outputs": []
    },
    {
      "cell_type": "code",
      "source": [
        "from sklearn.preprocessing import LabelEncoder\n",
        "y = LabelEncoder().fit_transform(y)\n",
        "from sklearn.model_selection import train_test_split\n",
        "X_train, X_test, y_train, y_test = train_test_split(x, y, test_size=0.25, shuffle=True)"
      ],
      "metadata": {
        "id": "vDJLYo1U1_98"
      },
      "execution_count": 14,
      "outputs": []
    },
    {
      "cell_type": "code",
      "source": [
        "import xgboost as xgb"
      ],
      "metadata": {
        "id": "-sOFiEHA2D8N"
      },
      "execution_count": 15,
      "outputs": []
    },
    {
      "cell_type": "code",
      "source": [
        "from sklearn.svm import SVC\n",
        "from sklearn.neighbors import KNeighborsClassifier\n",
        "from sklearn.naive_bayes import GaussianNB\n",
        "from sklearn.linear_model import SGDClassifier\n",
        "\n",
        "sgd = SGDClassifier()\n",
        "sgd.fit(X_train,y_train)\n",
        "nb = GaussianNB()\n",
        "nb.fit(X_train,y_train)\n",
        "knn = KNeighborsClassifier(n_neighbors = 3) #n_neighbors = k\n",
        "knn.fit(X_train,y_train)\n",
        "svm = SVC(random_state = 1)\n",
        "svm.fit(X_train,y_train)"
      ],
      "metadata": {
        "colab": {
          "base_uri": "https://localhost:8080/"
        },
        "id": "SYBmyZiT2G6F",
        "outputId": "56f18690-33b4-4ded-c319-c22470360434"
      },
      "execution_count": 16,
      "outputs": [
        {
          "output_type": "execute_result",
          "data": {
            "text/plain": [
              "SVC(random_state=1)"
            ]
          },
          "metadata": {},
          "execution_count": 16
        }
      ]
    },
    {
      "cell_type": "markdown",
      "source": [
        "## Métricas\n",
        "\n",
        "### Acurária"
      ],
      "metadata": {
        "id": "e-vB1ee0fyrL"
      }
    },
    {
      "cell_type": "code",
      "source": [
        "print(\"SVM accuracy is :\",svm.score(X_test,y_test))\n",
        "print('accuracy of bayes in test data is :', nb.score(X_test,y_test))\n",
        "print('acc_of_sgd is: ', sgd.score(X_test,y_test))\n",
        "print('acc_knn: ',knn.score(X_test,y_test))"
      ],
      "metadata": {
        "colab": {
          "base_uri": "https://localhost:8080/"
        },
        "id": "HNEOCYTaf7K6",
        "outputId": "76ecb32b-ad3e-4bc5-fb46-98631a4924f9"
      },
      "execution_count": 17,
      "outputs": [
        {
          "output_type": "stream",
          "name": "stdout",
          "text": [
            "SVM accuracy is : 0.8383252818035427\n",
            "accuracy of bayes in test data is : 0.6289452495974235\n",
            "acc_of_sgd is:  0.7513687600644122\n",
            "acc_knn:  0.9997987117552335\n"
          ]
        }
      ]
    },
    {
      "cell_type": "markdown",
      "source": [
        "### Matriz de confusão e relatório de classificação\n",
        "\n",
        "Para o modelo com a maior acurácia, o KNN, foi construída abaixo a matriz de confusão e o relatório de classificação para avaliar melhor os resultados."
      ],
      "metadata": {
        "id": "azEIHXrbxGKi"
      }
    },
    {
      "cell_type": "code",
      "source": [
        "from sklearn.metrics import confusion_matrix\n",
        "from sklearn.metrics import classification_report\n",
        "from sklearn.model_selection import cross_val_predict\n",
        "\n",
        "clf = knn.fit(X_train,y_train)\n",
        "predicted = cross_val_predict(clf, x, y, cv=2)"
      ],
      "metadata": {
        "id": "af-npusZKpOw"
      },
      "execution_count": 18,
      "outputs": []
    },
    {
      "cell_type": "code",
      "source": [
        "print(confusion_matrix(y, predicted))"
      ],
      "metadata": {
        "colab": {
          "base_uri": "https://localhost:8080/"
        },
        "id": "TSP0Ks6gVJti",
        "outputId": "36d0c347-705f-4379-c7b7-4a878eb22561"
      },
      "execution_count": 19,
      "outputs": [
        {
          "output_type": "stream",
          "name": "stdout",
          "text": [
            "[[10079   158   710   669     0  2122     0]\n",
            " [  884  3077  3625  2853  1572  1181     0]\n",
            " [  434  4834  1439  1991  4206     0     0]\n",
            " [  321  4193  1669  2857   349  3225     0]\n",
            " [    0  2498  1252  3290  5111    69     0]\n",
            " [ 2877  1762   226  7525   258  1602  1458]\n",
            " [    0     0     0     0     0     0 18982]]\n"
          ]
        }
      ]
    },
    {
      "cell_type": "code",
      "source": [
        "print(classification_report(y, predicted))"
      ],
      "metadata": {
        "colab": {
          "base_uri": "https://localhost:8080/"
        },
        "id": "SA_kXbI2NIN3",
        "outputId": "e432b9d4-72be-462d-9de2-c440af0acecf"
      },
      "execution_count": 20,
      "outputs": [
        {
          "output_type": "stream",
          "name": "stdout",
          "text": [
            "              precision    recall  f1-score   support\n",
            "\n",
            "           0       0.69      0.73      0.71     13738\n",
            "           1       0.19      0.23      0.21     13192\n",
            "           2       0.16      0.11      0.13     12904\n",
            "           3       0.15      0.23      0.18     12614\n",
            "           4       0.44      0.42      0.43     12220\n",
            "           5       0.20      0.10      0.13     15708\n",
            "           6       0.93      1.00      0.96     18982\n",
            "\n",
            "    accuracy                           0.43     99358\n",
            "   macro avg       0.39      0.40      0.39     99358\n",
            "weighted avg       0.42      0.43      0.42     99358\n",
            "\n"
          ]
        }
      ]
    },
    {
      "cell_type": "markdown",
      "source": [
        "#Conclusão\n",
        "\n",
        "O melhor modelo de classificação dentre os aplicados é o KNN com uma acurácia de quase 100%.\n",
        "\n",
        "Trabalhos futuros: aplicação das técnicas e conceitos apreendidos com este trabalho no contexto que a minha dissertação de mestrado se propõe, que acredito ser um caso mais específico do que foi trabalhado aqui.  "
      ],
      "metadata": {
        "id": "n77Oi3Xu4GVw"
      }
    }
  ]
}